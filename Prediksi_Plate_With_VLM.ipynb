{
 "cells": [
  {
   "cell_type": "markdown",
   "id": "3165d7dc",
   "metadata": {},
   "source": [
    "# **Nama : Nedia Waty**\n",
    "# **Nim : 4222201010**\n",
    "# **Prodi : Teknik Robotika**"
   ]
  },
  {
   "cell_type": "markdown",
   "id": "b8f22247",
   "metadata": {},
   "source": [
    "**Library**"
   ]
  },
  {
   "cell_type": "code",
   "execution_count": 9,
   "id": "b2ab62ce",
   "metadata": {},
   "outputs": [],
   "source": [
    "import os\n",
    "import pandas as pd\n",
    "from tqdm import tqdm\n",
    "import Levenshtein\n",
    "import lmstudio as lms"
   ]
  },
  {
   "cell_type": "markdown",
   "id": "538fba83",
   "metadata": {},
   "source": [
    "**Konfigurasi OCR (Optical Character Recognition)**"
   ]
  },
  {
   "cell_type": "code",
   "execution_count": null,
   "id": "dab5145b",
   "metadata": {},
   "outputs": [],
   "source": [
    "# === CONFIGURASI ===\n",
    "IMAGE_FOLDER = \"test\"\n",
    "GROUND_TRUTH_CSV = os.path.join(IMAGE_FOLDER, \"ground_truth.csv\")\n",
    "OUTPUT_CSV =  \"result.csv\"\n",
    "MODEL_NAME = \"google/gemma-3-4b\" "
   ]
  },
  {
   "cell_type": "markdown",
   "id": "5fcb88b1",
   "metadata": {},
   "source": [
    " **Load Data pada Ground Truth**"
   ]
  },
  {
   "cell_type": "code",
   "execution_count": 4,
   "id": "e50e4256",
   "metadata": {},
   "outputs": [],
   "source": [
    "# === Load ground truth ===\n",
    "ground_truth_df = pd.read_csv(GROUND_TRUTH_CSV, header=None, names=[\"image\", \"ground_truth\"])\n",
    "ground_truth_dict = dict(zip(ground_truth_df[\"image\"], ground_truth_df[\"ground_truth\"]))"
   ]
  },
  {
   "cell_type": "markdown",
   "id": "184c8910",
   "metadata": {},
   "source": [
    "**Load Model pada OCR**"
   ]
  },
  {
   "cell_type": "code",
   "execution_count": 5,
   "id": "a6e3a04b",
   "metadata": {},
   "outputs": [],
   "source": [
    "# === Load model ===\n",
    "model = lms.llm(MODEL_NAME)"
   ]
  },
  {
   "cell_type": "markdown",
   "id": "95ed0de6",
   "metadata": {},
   "source": [
    "**Perhitungan Evaluasi (CER)**"
   ]
  },
  {
   "cell_type": "code",
   "execution_count": 6,
   "id": "bb289cd9",
   "metadata": {},
   "outputs": [],
   "source": [
    "# === CER calculation ===\n",
    "def calculate_cer(gt, pred):\n",
    "    return Levenshtein.distance(gt, pred) / max(1, len(gt))"
   ]
  },
  {
   "cell_type": "markdown",
   "id": "a07f4ced",
   "metadata": {},
   "source": [
    "**Proses Inference dan Evaluasi**"
   ]
  },
  {
   "cell_type": "code",
   "execution_count": 8,
   "id": "bf14784b",
   "metadata": {},
   "outputs": [
    {
     "name": "stderr",
     "output_type": "stream",
     "text": [
      "100%|██████████| 101/101 [2:57:50<00:00, 105.65s/it] \n"
     ]
    }
   ],
   "source": [
    "# === Proses inference dan Evaluasi ===\n",
    "results = []\n",
    "\n",
    "for filename in tqdm(sorted(os.listdir(IMAGE_FOLDER))):\n",
    "    if not filename.lower().endswith(('.jpg', '.jpeg', '.png')):\n",
    "        continue\n",
    "\n",
    "    image_path = os.path.join(IMAGE_FOLDER, filename)\n",
    "    image_handle = lms.prepare_image(image_path)\n",
    "\n",
    "    chat = lms.Chat()\n",
    "    chat.add_user_message(\n",
    "        \"What is the license plate number shown in this image? Respond only with the license plate characters, without any spaces, or punctuation. Do not include the expiration date.\",\n",
    "        images=[image_handle]\n",
    "    )\n",
    "\n",
    "    try:\n",
    "        prediction_result = model.respond(chat)\n",
    "        prediction =  prediction_result.content.strip()\n",
    "        \n",
    "    except Exception as e:\n",
    "        prediction = \"ERROR\"\n",
    "        print(f\"Gagal memproses {filename}: {e}\")\n",
    "\n",
    "    ground_truth = ground_truth_dict.get(filename, \"\")\n",
    "    cer = calculate_cer(ground_truth, prediction)\n",
    "\n",
    "    results.append([filename, ground_truth, prediction, cer])"
   ]
  },
  {
   "cell_type": "markdown",
   "id": "d7d6d87c",
   "metadata": {},
   "source": [
    "**Penyimpanan Hasil dan Statistik Evaluasi**"
   ]
  },
  {
   "cell_type": "code",
   "execution_count": 10,
   "id": "d5106f0f",
   "metadata": {},
   "outputs": [
    {
     "name": "stdout",
     "output_type": "stream",
     "text": [
      "\n",
      "✅ Selesai memproses semua gambar.\n",
      "📁 Hasil disimpan ke 'result.csv'\n",
      "\n",
      "📊 Statistik Evaluasi:\n",
      "- Jumlah Gambar       : 50\n",
      "- Exact Match         : 22 (44.00%)\n",
      "- Rata-rata CER Score : 0.1173\n"
     ]
    }
   ],
   "source": [
    "# Simpan ke CSV\n",
    "out_df = pd.DataFrame(results, columns=[\"image\", \"ground_truth\", \"prediction\", \"CER_score\"])\n",
    "out_df.to_csv(OUTPUT_CSV, index=False)\n",
    "\n",
    "print(\"\\n✅ Selesai memproses semua gambar.\")\n",
    "print(f\"📁 Hasil disimpan ke '{OUTPUT_CSV}'\")\n",
    "\n",
    "# Statistik evaluasi\n",
    "exact_match = (out_df[\"CER_score\"] == 0).sum()\n",
    "total = len(out_df)\n",
    "mean_cer = out_df[\"CER_score\"].mean()\n",
    "\n",
    "print(f\"\\n📊 Statistik Evaluasi:\")\n",
    "print(f\"- Jumlah Gambar       : {total}\")\n",
    "print(f\"- Exact Match         : {exact_match} ({(exact_match / total) * 100:.2f}%)\")\n",
    "print(f\"- Rata-rata CER Score : {mean_cer:.4f}\")"
   ]
  }
 ],
 "metadata": {
  "kernelspec": {
   "display_name": "CNN",
   "language": "python",
   "name": "python3"
  },
  "language_info": {
   "codemirror_mode": {
    "name": "ipython",
    "version": 3
   },
   "file_extension": ".py",
   "mimetype": "text/x-python",
   "name": "python",
   "nbconvert_exporter": "python",
   "pygments_lexer": "ipython3",
   "version": "3.10.18"
  }
 },
 "nbformat": 4,
 "nbformat_minor": 5
}
